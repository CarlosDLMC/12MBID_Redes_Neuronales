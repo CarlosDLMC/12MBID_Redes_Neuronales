{
 "cells": [
  {
   "cell_type": "markdown",
   "metadata": {},
   "source": [
    "## Redes Neuronales aplicadas a texto"
   ]
  },
  {
   "cell_type": "code",
   "execution_count": 1,
   "metadata": {},
   "outputs": [
    {
     "name": "stdout",
     "output_type": "stream",
     "text": [
      "Downloading data from https://storage.googleapis.com/tensorflow/tf-keras-datasets/reuters.npz\n",
      "2113536/2110848 [==============================] - 1s 1us/step\n",
      "(8982,)\n",
      "(8982,)\n",
      "(2246,)\n",
      "(2246,)\n"
     ]
    },
    {
     "name": "stderr",
     "output_type": "stream",
     "text": [
      "/usr/local/lib/python3.8/dist-packages/tensorflow/python/keras/datasets/reuters.py:148: VisibleDeprecationWarning: Creating an ndarray from ragged nested sequences (which is a list-or-tuple of lists-or-tuples-or ndarrays with different lengths or shapes) is deprecated. If you meant to do this, you must specify 'dtype=object' when creating the ndarray.\n",
      "  x_train, y_train = np.array(xs[:idx]), np.array(labels[:idx])\n",
      "/usr/local/lib/python3.8/dist-packages/tensorflow/python/keras/datasets/reuters.py:149: VisibleDeprecationWarning: Creating an ndarray from ragged nested sequences (which is a list-or-tuple of lists-or-tuples-or ndarrays with different lengths or shapes) is deprecated. If you meant to do this, you must specify 'dtype=object' when creating the ndarray.\n",
      "  x_test, y_test = np.array(xs[idx:]), np.array(labels[idx:])\n"
     ]
    }
   ],
   "source": [
    "import numpy as np\n",
    "import tensorflow as tf\n",
    "# Importamos el dataset REUTERS con toticias de 46 temas distintos.\n",
    "reuters = tf.keras.datasets.reuters\n",
    "WORD_LIMIT = 10000 # cogemos las 10 000 palabras más repetidas del diccionario, para no petar la red neuronal.\n",
    "(training_data, training_labels), (testing_data, testing_labels) = reuters.load_data(num_words=WORD_LIMIT)\n",
    "print(training_data.shape)\n",
    "print(training_labels.shape)\n",
    "print(testing_data.shape)\n",
    "print(testing_labels.shape)"
   ]
  },
  {
   "cell_type": "code",
   "execution_count": 3,
   "metadata": {},
   "outputs": [
    {
     "name": "stdout",
     "output_type": "stream",
     "text": [
      "Downloading data from https://storage.googleapis.com/tensorflow/tf-keras-datasets/reuters_word_index.json\n",
      "557056/550378 [==============================] - 0s 1us/step\n"
     ]
    },
    {
     "data": {
      "text/plain": [
       "'? lt ? ? corp ltd said it received proposals to acquire the company following its announcement last august that it had retained investment dealers to solicit offers for all outstanding common shares ? ? said the offers are subject to clarification and negotiation and offered no further details reuter 3'"
      ]
     },
     "execution_count": 3,
     "metadata": {},
     "output_type": "execute_result"
    }
   ],
   "source": [
    "word_index = reuters.get_word_index()\n",
    "reverse_word_index = {value: key for key, value in word_index.items()}\n",
    "decoded = ' '.join(\n",
    "    [reverse_word_index.get(i - 3, '?') for i in training_data[8888]] # i - 3 es por especificaciones del dataset\n",
    ")\n",
    "decoded"
   ]
  },
  {
   "cell_type": "code",
   "execution_count": 4,
   "metadata": {},
   "outputs": [
    {
     "data": {
      "text/plain": [
       "[1,\n",
       " 56,\n",
       " 2,\n",
       " 2,\n",
       " 81,\n",
       " 149,\n",
       " 8,\n",
       " 16,\n",
       " 638,\n",
       " 795,\n",
       " 6,\n",
       " 438,\n",
       " 4,\n",
       " 49,\n",
       " 480,\n",
       " 25,\n",
       " 1020,\n",
       " 54,\n",
       " 748,\n",
       " 24,\n",
       " 16,\n",
       " 64,\n",
       " 2503,\n",
       " 205,\n",
       " 368,\n",
       " 6,\n",
       " 8987,\n",
       " 988,\n",
       " 13,\n",
       " 137,\n",
       " 335,\n",
       " 175,\n",
       " 79,\n",
       " 2,\n",
       " 2,\n",
       " 8,\n",
       " 4,\n",
       " 988,\n",
       " 55,\n",
       " 527,\n",
       " 6,\n",
       " 7336,\n",
       " 9,\n",
       " 4337,\n",
       " 9,\n",
       " 607,\n",
       " 129,\n",
       " 226,\n",
       " 783,\n",
       " 17,\n",
       " 12]"
      ]
     },
     "execution_count": 4,
     "metadata": {},
     "output_type": "execute_result"
    }
   ],
   "source": [
    "training_data[8888]"
   ]
  },
  {
   "cell_type": "code",
   "execution_count": 15,
   "metadata": {},
   "outputs": [],
   "source": [
    "import numpy as np\n",
    "\n",
    "def one_hot_encode(data):\n",
    "    encoded = np.zeros((len(data), WORD_LIMIT))\n",
    "    for i, v in enumerate(data):\n",
    "        encoded[i,v] = 1 # localiza las columnas del genero correspondiente, las marca con un 1 (leer numpy broadcasting)\n",
    "    return encoded"
   ]
  },
  {
   "cell_type": "code",
   "execution_count": 16,
   "metadata": {},
   "outputs": [
    {
     "name": "stdout",
     "output_type": "stream",
     "text": [
      "(8982, 10000)\n",
      "(2246, 10000)\n"
     ]
    }
   ],
   "source": [
    "x_train = one_hot_encode(training_data)\n",
    "x_test = one_hot_encode(testing_data)\n",
    "print(x_train.shape)\n",
    "print(x_test.shape)"
   ]
  },
  {
   "cell_type": "code",
   "execution_count": 17,
   "metadata": {},
   "outputs": [
    {
     "data": {
      "text/plain": [
       "array([[0., 1., 1., ..., 0., 0., 0.],\n",
       "       [0., 1., 1., ..., 0., 0., 0.],\n",
       "       [0., 1., 1., ..., 0., 0., 0.],\n",
       "       ...,\n",
       "       [0., 1., 1., ..., 0., 0., 0.],\n",
       "       [0., 1., 1., ..., 0., 0., 0.],\n",
       "       [0., 1., 1., ..., 0., 0., 0.]])"
      ]
     },
     "execution_count": 17,
     "metadata": {},
     "output_type": "execute_result"
    }
   ],
   "source": [
    "x_train"
   ]
  },
  {
   "cell_type": "code",
   "execution_count": 18,
   "metadata": {},
   "outputs": [],
   "source": [
    "from tensorflow.keras.utils import to_categorical\n",
    "y_train = to_categorical(training_labels) # es un one_hot_encoder al uso\n",
    "y_test = to_categorical(testing_labels)"
   ]
  },
  {
   "cell_type": "code",
   "execution_count": 19,
   "metadata": {},
   "outputs": [
    {
     "data": {
      "text/plain": [
       "array([ 3,  4,  3, ..., 25,  3, 25])"
      ]
     },
     "execution_count": 19,
     "metadata": {},
     "output_type": "execute_result"
    }
   ],
   "source": [
    "training_labels"
   ]
  },
  {
   "cell_type": "code",
   "execution_count": 25,
   "metadata": {},
   "outputs": [],
   "source": [
    "from tensorflow.keras.models import Sequential\n",
    "from tensorflow.keras.layers import Dense\n",
    "\n",
    "model = Sequential()\n",
    "model.add(Dense(128, activation='relu', input_shape=(WORD_LIMIT,)))\n",
    "model.add(Dense(64, activation='relu'))\n",
    "model.add(Dense(46, activation='softmax')) # reparto de probabilidad entre num_clases (hay 46 clases)"
   ]
  },
  {
   "cell_type": "code",
   "execution_count": 26,
   "metadata": {},
   "outputs": [],
   "source": [
    "model.compile(optimizer='adam',\n",
    "                 loss='categorical_crossentropy',\n",
    "                 metrics=['accuracy'])"
   ]
  },
  {
   "cell_type": "code",
   "execution_count": 28,
   "metadata": {},
   "outputs": [
    {
     "name": "stdout",
     "output_type": "stream",
     "text": [
      "Epoch 1/20\n",
      "225/225 [==============================] - 1s 6ms/step - loss: 0.0735 - accuracy: 0.9621 - val_loss: 1.2124 - val_accuracy: 0.7974\n",
      "Epoch 2/20\n",
      "225/225 [==============================] - 1s 5ms/step - loss: 0.0690 - accuracy: 0.9644 - val_loss: 1.2940 - val_accuracy: 0.7869\n",
      "Epoch 3/20\n",
      "225/225 [==============================] - 1s 7ms/step - loss: 0.0704 - accuracy: 0.9620 - val_loss: 1.3368 - val_accuracy: 0.7941\n",
      "Epoch 4/20\n",
      "225/225 [==============================] - 1s 6ms/step - loss: 0.0691 - accuracy: 0.9631 - val_loss: 1.3087 - val_accuracy: 0.7969\n",
      "Epoch 5/20\n",
      "225/225 [==============================] - 1s 6ms/step - loss: 0.0687 - accuracy: 0.9602 - val_loss: 1.2615 - val_accuracy: 0.8008\n",
      "Epoch 6/20\n",
      "225/225 [==============================] - 1s 6ms/step - loss: 0.0658 - accuracy: 0.9634 - val_loss: 1.3733 - val_accuracy: 0.7963\n",
      "Epoch 7/20\n",
      "225/225 [==============================] - 1s 6ms/step - loss: 0.0625 - accuracy: 0.9635 - val_loss: 1.3854 - val_accuracy: 0.7874\n",
      "Epoch 8/20\n",
      "225/225 [==============================] - 1s 7ms/step - loss: 0.0653 - accuracy: 0.9638 - val_loss: 1.4574 - val_accuracy: 0.7863\n",
      "Epoch 9/20\n",
      "225/225 [==============================] - 1s 6ms/step - loss: 0.0619 - accuracy: 0.9634 - val_loss: 1.3970 - val_accuracy: 0.7941\n",
      "Epoch 10/20\n",
      "225/225 [==============================] - 1s 6ms/step - loss: 0.0639 - accuracy: 0.9627 - val_loss: 1.4637 - val_accuracy: 0.7935\n",
      "Epoch 11/20\n",
      "225/225 [==============================] - 1s 6ms/step - loss: 0.0646 - accuracy: 0.9628 - val_loss: 1.4047 - val_accuracy: 0.7874\n",
      "Epoch 12/20\n",
      "225/225 [==============================] - 1s 7ms/step - loss: 0.0610 - accuracy: 0.9644 - val_loss: 1.5057 - val_accuracy: 0.7852\n",
      "Epoch 13/20\n",
      "225/225 [==============================] - 1s 6ms/step - loss: 0.0585 - accuracy: 0.9637 - val_loss: 1.5191 - val_accuracy: 0.7891\n",
      "Epoch 14/20\n",
      "225/225 [==============================] - 1s 6ms/step - loss: 0.0584 - accuracy: 0.9638 - val_loss: 1.6094 - val_accuracy: 0.7880\n",
      "Epoch 15/20\n",
      "225/225 [==============================] - 1s 6ms/step - loss: 0.0581 - accuracy: 0.9651 - val_loss: 1.6098 - val_accuracy: 0.7880\n",
      "Epoch 16/20\n",
      "225/225 [==============================] - 1s 7ms/step - loss: 0.0578 - accuracy: 0.9642 - val_loss: 1.5502 - val_accuracy: 0.7919\n",
      "Epoch 17/20\n",
      "225/225 [==============================] - 1s 7ms/step - loss: 0.0583 - accuracy: 0.9630 - val_loss: 1.5628 - val_accuracy: 0.7902\n",
      "Epoch 18/20\n",
      "225/225 [==============================] - 2s 7ms/step - loss: 0.0608 - accuracy: 0.9662 - val_loss: 1.6781 - val_accuracy: 0.7885\n",
      "Epoch 19/20\n",
      "225/225 [==============================] - 2s 7ms/step - loss: 0.0569 - accuracy: 0.9627 - val_loss: 1.5658 - val_accuracy: 0.7958\n",
      "Epoch 20/20\n",
      "225/225 [==============================] - 2s 7ms/step - loss: 0.0558 - accuracy: 0.9635 - val_loss: 1.7634 - val_accuracy: 0.7841\n"
     ]
    }
   ],
   "source": [
    "H = model.fit(x_train, y_train, epochs=20, batch_size=32, validation_split=0.2)\n",
    "#con el validation split dividimos training data en training y validation en el propio fit()"
   ]
  },
  {
   "cell_type": "markdown",
   "metadata": {},
   "source": [
    "Podemos ver que val_loss no sigue a la línea roja, por lo que tenemos overfitting"
   ]
  },
  {
   "cell_type": "code",
   "execution_count": 29,
   "metadata": {},
   "outputs": [
    {
     "name": "stdout",
     "output_type": "stream",
     "text": [
      "71/71 [==============================] - 0s 2ms/step - loss: 1.8777 - accuracy: 0.7778\n"
     ]
    }
   ],
   "source": [
    "loss, accuracy = model.evaluate(x_test, y_test)"
   ]
  },
  {
   "cell_type": "code",
   "execution_count": 32,
   "metadata": {},
   "outputs": [
    {
     "data": {
      "text/plain": [
       "<matplotlib.legend.Legend at 0x7f3703ae4a00>"
      ]
     },
     "execution_count": 32,
     "metadata": {},
     "output_type": "execute_result"
    },
    {
     "data": {
      "image/png": "[encoded data removed]",
      "text/plain": [
       "<Figure size 432x288 with 1 Axes>"
      ]
     },
     "metadata": {},
     "output_type": "display_data"
    }
   ],
   "source": [
    "import matplotlib.pyplot as plt\n",
    "\n",
    "plt.style.use(\"ggplot\")\n",
    "plt.figure()\n",
    "plt.plot(np.arange(0, 20), H.history[\"loss\"], label=\"train_loss\")\n",
    "plt.plot(np.arange(0, 20), H.history[\"val_loss\"], label=\"val_loss\")\n",
    "plt.plot(np.arange(0, 20), H.history[\"accuracy\"], label=\"accuracy\")\n",
    "plt.plot(np.arange(0, 20), H.history[\"val_accuracy\"], label=\"val_accuracy\")\n",
    "plt.title(\"Training Loss and Accuracy\")\n",
    "plt.xlabel(\"Epoch #\")\n",
    "plt.ylabel(\"Loss/Accuracy\")\n",
    "plt.legend()"
   ]
  },
  {
   "cell_type": "markdown",
   "metadata": {},
   "source": [
    "Salta a la vista que hay overfitting.\n",
    "Vamos a regularizar los pesos para intentar paliarlo."
   ]
  },
  {
   "cell_type": "markdown",
   "metadata": {},
   "source": [
    "## Regularización de Pesos"
   ]
  },
  {
   "cell_type": "code",
   "execution_count": 37,
   "metadata": {},
   "outputs": [],
   "source": [
    "from tensorflow.keras import regularizers\n",
    "\n",
    "model = Sequential()\n",
    "model.add(Dense(128, activation='relu', kernel_regularizer=regularizers.l2(0.01), input_shape=(WORD_LIMIT,)))\n",
    "model.add(Dense(64, activation='relu', kernel_regularizer=regularizers.l2(0.01))) # 0.01 son los pesos maximos de la capa\n",
    "model.add(Dense(46, activation='softmax'))"
   ]
  },
  {
   "cell_type": "code",
   "execution_count": 34,
   "metadata": {},
   "outputs": [],
   "source": [
    "model.compile(optimizer='adam',\n",
    "                 loss='categorical_crossentropy',\n",
    "                 metrics=['accuracy'])"
   ]
  },
  {
   "cell_type": "code",
   "execution_count": 35,
   "metadata": {},
   "outputs": [
    {
     "name": "stdout",
     "output_type": "stream",
     "text": [
      "Epoch 1/20\n",
      "225/225 [==============================] - 2s 10ms/step - loss: 2.4167 - accuracy: 0.6331 - val_loss: 1.8141 - val_accuracy: 0.7206\n",
      "Epoch 2/20\n",
      "225/225 [==============================] - 2s 9ms/step - loss: 1.7035 - accuracy: 0.7347 - val_loss: 1.6990 - val_accuracy: 0.7290\n",
      "Epoch 3/20\n",
      "225/225 [==============================] - 2s 9ms/step - loss: 1.6022 - accuracy: 0.7563 - val_loss: 1.6412 - val_accuracy: 0.7468\n",
      "Epoch 4/20\n",
      "225/225 [==============================] - 2s 9ms/step - loss: 1.5494 - accuracy: 0.7620 - val_loss: 1.6211 - val_accuracy: 0.7551\n",
      "Epoch 5/20\n",
      "225/225 [==============================] - 2s 9ms/step - loss: 1.5018 - accuracy: 0.7758 - val_loss: 1.5712 - val_accuracy: 0.7507\n",
      "Epoch 6/20\n",
      "225/225 [==============================] - 2s 9ms/step - loss: 1.4717 - accuracy: 0.7830 - val_loss: 1.5627 - val_accuracy: 0.7629\n",
      "Epoch 7/20\n",
      "225/225 [==============================] - 2s 9ms/step - loss: 1.4478 - accuracy: 0.7852 - val_loss: 1.5649 - val_accuracy: 0.7607\n",
      "Epoch 8/20\n",
      "225/225 [==============================] - 2s 9ms/step - loss: 1.4092 - accuracy: 0.7910 - val_loss: 1.5552 - val_accuracy: 0.7641\n",
      "Epoch 9/20\n",
      "225/225 [==============================] - 2s 9ms/step - loss: 1.3832 - accuracy: 0.7999 - val_loss: 1.5420 - val_accuracy: 0.7585\n",
      "Epoch 10/20\n",
      "225/225 [==============================] - 2s 9ms/step - loss: 1.3518 - accuracy: 0.8019 - val_loss: 1.5009 - val_accuracy: 0.7741\n",
      "Epoch 11/20\n",
      "225/225 [==============================] - 2s 9ms/step - loss: 1.3311 - accuracy: 0.8045 - val_loss: 1.5189 - val_accuracy: 0.7691\n",
      "Epoch 12/20\n",
      "225/225 [==============================] - 2s 9ms/step - loss: 1.3023 - accuracy: 0.8118 - val_loss: 1.4775 - val_accuracy: 0.7718\n",
      "Epoch 13/20\n",
      "225/225 [==============================] - 2s 9ms/step - loss: 1.2766 - accuracy: 0.8154 - val_loss: 1.4759 - val_accuracy: 0.7718\n",
      "Epoch 14/20\n",
      "225/225 [==============================] - 2s 9ms/step - loss: 1.2438 - accuracy: 0.8163 - val_loss: 1.4862 - val_accuracy: 0.7707\n",
      "Epoch 15/20\n",
      "225/225 [==============================] - 2s 9ms/step - loss: 1.2243 - accuracy: 0.8263 - val_loss: 1.4602 - val_accuracy: 0.7674\n",
      "Epoch 16/20\n",
      "225/225 [==============================] - 2s 9ms/step - loss: 1.2038 - accuracy: 0.8276 - val_loss: 1.4416 - val_accuracy: 0.7858\n",
      "Epoch 17/20\n",
      "225/225 [==============================] - 2s 9ms/step - loss: 1.1808 - accuracy: 0.8312 - val_loss: 1.4391 - val_accuracy: 0.7774\n",
      "Epoch 18/20\n",
      "225/225 [==============================] - 2s 9ms/step - loss: 1.1566 - accuracy: 0.8305 - val_loss: 1.4341 - val_accuracy: 0.7691\n",
      "Epoch 19/20\n",
      "225/225 [==============================] - 2s 9ms/step - loss: 1.1362 - accuracy: 0.8367 - val_loss: 1.4383 - val_accuracy: 0.7652\n",
      "Epoch 20/20\n",
      "225/225 [==============================] - 2s 9ms/step - loss: 1.1179 - accuracy: 0.8433 - val_loss: 1.4330 - val_accuracy: 0.7835\n"
     ]
    }
   ],
   "source": [
    "H = model.fit(x_train, y_train, epochs=20, batch_size=32, validation_split=0.2)"
   ]
  },
  {
   "cell_type": "code",
   "execution_count": 36,
   "metadata": {},
   "outputs": [
    {
     "data": {
      "text/plain": [
       "<matplotlib.legend.Legend at 0x7f36541285b0>"
      ]
     },
     "execution_count": 36,
     "metadata": {},
     "output_type": "execute_result"
    },
    {
     "data": {
      "image/png": "[encoded data removed]",
      "text/plain": [
       "<Figure size 432x288 with 1 Axes>"
      ]
     },
     "metadata": {},
     "output_type": "display_data"
    }
   ],
   "source": [
    "plt.style.use(\"ggplot\")\n",
    "plt.figure()\n",
    "plt.plot(np.arange(0, 20), H.history[\"loss\"], label=\"train_loss\")\n",
    "plt.plot(np.arange(0, 20), H.history[\"val_loss\"], label=\"val_loss\")\n",
    "plt.plot(np.arange(0, 20), H.history[\"accuracy\"], label=\"accuracy\")\n",
    "plt.plot(np.arange(0, 20), H.history[\"val_accuracy\"], label=\"val_accuracy\")\n",
    "plt.title(\"Training Loss and Accuracy\")\n",
    "plt.xlabel(\"Epoch #\")\n",
    "plt.ylabel(\"Loss/Accuracy\")\n",
    "plt.legend()"
   ]
  },
  {
   "cell_type": "markdown",
   "metadata": {},
   "source": [
    "Mejora un poco la generalización, pero baja un poco la precisión, vamos a probar de otra forma"
   ]
  },
  {
   "cell_type": "markdown",
   "metadata": {},
   "source": [
    "## Dropout"
   ]
  },
  {
   "cell_type": "code",
   "execution_count": 39,
   "metadata": {},
   "outputs": [],
   "source": [
    "from tensorflow.keras.layers import Dropout\n",
    "\n",
    "model = Sequential()\n",
    "model.add(Dense(128, activation='relu', input_shape=(WORD_LIMIT,)))\n",
    "model.add(Dropout(0.75)) # desconecto el 75% de las neuronas\n",
    "model.add(Dense(64, activation='relu')) \n",
    "model.add(Dropout(0.75))\n",
    "model.add(Dense(46, activation='softmax'))"
   ]
  },
  {
   "cell_type": "code",
   "execution_count": 41,
   "metadata": {},
   "outputs": [
    {
     "name": "stdout",
     "output_type": "stream",
     "text": [
      "Epoch 1/20\n",
      "225/225 [==============================] - 1s 7ms/step - loss: 1.0487 - accuracy: 0.7279 - val_loss: 1.4821 - val_accuracy: 0.7574\n",
      "Epoch 2/20\n",
      "225/225 [==============================] - 1s 7ms/step - loss: 1.0369 - accuracy: 0.7296 - val_loss: 1.5251 - val_accuracy: 0.7524\n",
      "Epoch 3/20\n",
      "225/225 [==============================] - 1s 6ms/step - loss: 1.0431 - accuracy: 0.7272 - val_loss: 1.5878 - val_accuracy: 0.7596\n",
      "Epoch 4/20\n",
      "225/225 [==============================] - 1s 6ms/step - loss: 1.0358 - accuracy: 0.7326 - val_loss: 1.5836 - val_accuracy: 0.7613\n",
      "Epoch 5/20\n",
      "225/225 [==============================] - 1s 6ms/step - loss: 1.0388 - accuracy: 0.7332 - val_loss: 1.6041 - val_accuracy: 0.7557\n",
      "Epoch 6/20\n",
      "225/225 [==============================] - 1s 6ms/step - loss: 0.9894 - accuracy: 0.7385 - val_loss: 1.5868 - val_accuracy: 0.7646\n",
      "Epoch 7/20\n",
      "225/225 [==============================] - 1s 6ms/step - loss: 0.9832 - accuracy: 0.7452 - val_loss: 1.6364 - val_accuracy: 0.7613\n",
      "Epoch 8/20\n",
      "225/225 [==============================] - 1s 7ms/step - loss: 0.9990 - accuracy: 0.7399 - val_loss: 1.6694 - val_accuracy: 0.7607\n",
      "Epoch 9/20\n",
      "225/225 [==============================] - 1s 6ms/step - loss: 0.9928 - accuracy: 0.7314 - val_loss: 1.6969 - val_accuracy: 0.7568\n",
      "Epoch 10/20\n",
      "225/225 [==============================] - 1s 7ms/step - loss: 0.9707 - accuracy: 0.7378 - val_loss: 1.6645 - val_accuracy: 0.7652\n",
      "Epoch 11/20\n",
      "225/225 [==============================] - 1s 6ms/step - loss: 0.9625 - accuracy: 0.7436 - val_loss: 1.6712 - val_accuracy: 0.7646\n",
      "Epoch 12/20\n",
      "225/225 [==============================] - 1s 6ms/step - loss: 0.9662 - accuracy: 0.7378 - val_loss: 1.7053 - val_accuracy: 0.7602\n",
      "Epoch 13/20\n",
      "225/225 [==============================] - 1s 6ms/step - loss: 0.9540 - accuracy: 0.7473 - val_loss: 1.6729 - val_accuracy: 0.7590\n",
      "Epoch 14/20\n",
      "225/225 [==============================] - 1s 6ms/step - loss: 0.9409 - accuracy: 0.7461 - val_loss: 1.7301 - val_accuracy: 0.7629\n",
      "Epoch 15/20\n",
      "225/225 [==============================] - 1s 6ms/step - loss: 0.9539 - accuracy: 0.7460 - val_loss: 1.7110 - val_accuracy: 0.7540\n",
      "Epoch 16/20\n",
      "225/225 [==============================] - 1s 6ms/step - loss: 0.9217 - accuracy: 0.7486 - val_loss: 1.7695 - val_accuracy: 0.7579\n",
      "Epoch 17/20\n",
      "225/225 [==============================] - 1s 6ms/step - loss: 0.9257 - accuracy: 0.7491 - val_loss: 1.7744 - val_accuracy: 0.7607\n",
      "Epoch 18/20\n",
      "225/225 [==============================] - 1s 6ms/step - loss: 0.9241 - accuracy: 0.7511 - val_loss: 1.8034 - val_accuracy: 0.7590\n",
      "Epoch 19/20\n",
      "225/225 [==============================] - 1s 6ms/step - loss: 0.9377 - accuracy: 0.7523 - val_loss: 1.8048 - val_accuracy: 0.7540\n",
      "Epoch 20/20\n",
      "225/225 [==============================] - 1s 7ms/step - loss: 0.9296 - accuracy: 0.7500 - val_loss: 1.7978 - val_accuracy: 0.7563\n"
     ]
    }
   ],
   "source": [
    "model.compile(optimizer='adam',\n",
    "                 loss='categorical_crossentropy',\n",
    "                 metrics=['accuracy'])\n",
    "H = model.fit(x_train, y_train, epochs=20, batch_size=32, validation_split=0.2)"
   ]
  },
  {
   "cell_type": "code",
   "execution_count": 42,
   "metadata": {},
   "outputs": [
    {
     "data": {
      "text/plain": [
       "<matplotlib.legend.Legend at 0x7f363fbcdc40>"
      ]
     },
     "execution_count": 42,
     "metadata": {},
     "output_type": "execute_result"
    },
    {
     "data": {
      "image/png": "[encoded data removed]",
      "text/plain": [
       "<Figure size 432x288 with 1 Axes>"
      ]
     },
     "metadata": {},
     "output_type": "display_data"
    }
   ],
   "source": [
    "plt.style.use(\"ggplot\")\n",
    "plt.figure()\n",
    "plt.plot(np.arange(0, 20), H.history[\"loss\"], label=\"train_loss\")\n",
    "plt.plot(np.arange(0, 20), H.history[\"val_loss\"], label=\"val_loss\")\n",
    "plt.plot(np.arange(0, 20), H.history[\"accuracy\"], label=\"accuracy\")\n",
    "plt.plot(np.arange(0, 20), H.history[\"val_accuracy\"], label=\"val_accuracy\")\n",
    "plt.title(\"Training Loss and Accuracy\")\n",
    "plt.xlabel(\"Epoch #\")\n",
    "plt.ylabel(\"Loss/Accuracy\")\n",
    "plt.legend()"
   ]
  },
  {
   "cell_type": "markdown",
   "metadata": {},
   "source": [
    "Nos hemos pasado, esto es bastante peor.\n",
    "vamos a intentar combinarlo con el batch normalization."
   ]
  },
  {
   "cell_type": "markdown",
   "metadata": {},
   "source": [
    "## Batch Normalization"
   ]
  },
  {
   "cell_type": "code",
   "execution_count": 43,
   "metadata": {},
   "outputs": [],
   "source": [
    "from tensorflow.keras.layers import BatchNormalization\n",
    "\n",
    "model = Sequential()\n",
    "model.add(Dense(128, activation='relu', input_shape=(WORD_LIMIT,)))\n",
    "model.add(BatchNormalization())\n",
    "model.add(Dropout(0.75)) # desconecto el 75% de las neuronas\n",
    "model.add(Dense(64, activation='relu'))\n",
    "model.add(BatchNormalization())\n",
    "model.add(Dropout(0.75))\n",
    "model.add(Dense(46, activation='softmax'))"
   ]
  },
  {
   "cell_type": "code",
   "execution_count": 44,
   "metadata": {},
   "outputs": [
    {
     "name": "stdout",
     "output_type": "stream",
     "text": [
      "Epoch 1/20\n",
      "225/225 [==============================] - 2s 7ms/step - loss: 3.4674 - accuracy: 0.3079 - val_loss: 1.9110 - val_accuracy: 0.6555\n",
      "Epoch 2/20\n",
      "225/225 [==============================] - 1s 6ms/step - loss: 2.1554 - accuracy: 0.5535 - val_loss: 1.4422 - val_accuracy: 0.7001\n",
      "Epoch 3/20\n",
      "225/225 [==============================] - 1s 7ms/step - loss: 1.8060 - accuracy: 0.6067 - val_loss: 1.3393 - val_accuracy: 0.7106\n",
      "Epoch 4/20\n",
      "225/225 [==============================] - 2s 7ms/step - loss: 1.6419 - accuracy: 0.6383 - val_loss: 1.2944 - val_accuracy: 0.7095\n",
      "Epoch 5/20\n",
      "225/225 [==============================] - 1s 6ms/step - loss: 1.5093 - accuracy: 0.6579 - val_loss: 1.2424 - val_accuracy: 0.7206\n",
      "Epoch 6/20\n",
      "225/225 [==============================] - 1s 6ms/step - loss: 1.4495 - accuracy: 0.6696 - val_loss: 1.2029 - val_accuracy: 0.7251\n",
      "Epoch 7/20\n",
      "225/225 [==============================] - 1s 6ms/step - loss: 1.3826 - accuracy: 0.6786 - val_loss: 1.1692 - val_accuracy: 0.7273\n",
      "Epoch 8/20\n",
      "225/225 [==============================] - 1s 6ms/step - loss: 1.3197 - accuracy: 0.6860 - val_loss: 1.1539 - val_accuracy: 0.7334\n",
      "Epoch 9/20\n",
      "225/225 [==============================] - 1s 6ms/step - loss: 1.2574 - accuracy: 0.7027 - val_loss: 1.1394 - val_accuracy: 0.7312\n",
      "Epoch 10/20\n",
      "225/225 [==============================] - 1s 6ms/step - loss: 1.2269 - accuracy: 0.7063 - val_loss: 1.1175 - val_accuracy: 0.7446\n",
      "Epoch 11/20\n",
      "225/225 [==============================] - 1s 6ms/step - loss: 1.1771 - accuracy: 0.7194 - val_loss: 1.0992 - val_accuracy: 0.7401\n",
      "Epoch 12/20\n",
      "225/225 [==============================] - 2s 7ms/step - loss: 1.1583 - accuracy: 0.7233 - val_loss: 1.0794 - val_accuracy: 0.7457\n",
      "Epoch 13/20\n",
      "225/225 [==============================] - 1s 7ms/step - loss: 1.1351 - accuracy: 0.7300 - val_loss: 1.0810 - val_accuracy: 0.7524\n",
      "Epoch 14/20\n",
      "225/225 [==============================] - 1s 6ms/step - loss: 1.0939 - accuracy: 0.7361 - val_loss: 1.0693 - val_accuracy: 0.7568\n",
      "Epoch 15/20\n",
      "225/225 [==============================] - 1s 6ms/step - loss: 1.0635 - accuracy: 0.7413 - val_loss: 1.0453 - val_accuracy: 0.7618\n",
      "Epoch 16/20\n",
      "225/225 [==============================] - 1s 6ms/step - loss: 1.0431 - accuracy: 0.7450 - val_loss: 1.0535 - val_accuracy: 0.7629\n",
      "Epoch 17/20\n",
      "225/225 [==============================] - 1s 7ms/step - loss: 0.9974 - accuracy: 0.7528 - val_loss: 1.0437 - val_accuracy: 0.7679\n",
      "Epoch 18/20\n",
      "225/225 [==============================] - 1s 6ms/step - loss: 0.9963 - accuracy: 0.7514 - val_loss: 1.0431 - val_accuracy: 0.7713\n",
      "Epoch 19/20\n",
      "225/225 [==============================] - 1s 6ms/step - loss: 0.9603 - accuracy: 0.7638 - val_loss: 1.0335 - val_accuracy: 0.7746\n",
      "Epoch 20/20\n",
      "225/225 [==============================] - 1s 7ms/step - loss: 0.9313 - accuracy: 0.7685 - val_loss: 1.0275 - val_accuracy: 0.7769\n"
     ]
    }
   ],
   "source": [
    "model.compile(optimizer='adam',\n",
    "                 loss='categorical_crossentropy',\n",
    "                 metrics=['accuracy'])\n",
    "H = model.fit(x_train, y_train, epochs=20, batch_size=32, validation_split=0.2)"
   ]
  },
  {
   "cell_type": "code",
   "execution_count": 45,
   "metadata": {},
   "outputs": [
    {
     "data": {
      "text/plain": [
       "<matplotlib.legend.Legend at 0x7f363c401df0>"
      ]
     },
     "execution_count": 45,
     "metadata": {},
     "output_type": "execute_result"
    },
    {
     "data": {
      "image/png": "[encoded data removed]",
      "text/plain": [
       "<Figure size 432x288 with 1 Axes>"
      ]
     },
     "metadata": {},
     "output_type": "display_data"
    }
   ],
   "source": [
    "plt.style.use(\"ggplot\")\n",
    "plt.figure()\n",
    "plt.plot(np.arange(0, 20), H.history[\"loss\"], label=\"train_loss\")\n",
    "plt.plot(np.arange(0, 20), H.history[\"val_loss\"], label=\"val_loss\")\n",
    "plt.plot(np.arange(0, 20), H.history[\"accuracy\"], label=\"accuracy\")\n",
    "plt.plot(np.arange(0, 20), H.history[\"val_accuracy\"], label=\"val_accuracy\")\n",
    "plt.title(\"Training Loss and Accuracy\")\n",
    "plt.xlabel(\"Epoch #\")\n",
    "plt.ylabel(\"Loss/Accuracy\")\n",
    "plt.legend()"
   ]
  },
  {
   "cell_type": "code",
   "execution_count": 46,
   "metadata": {},
   "outputs": [
    {
     "name": "stdout",
     "output_type": "stream",
     "text": [
      "71/71 [==============================] - 0s 1ms/step - loss: 1.0491 - accuracy: 0.7631\n"
     ]
    }
   ],
   "source": [
    "loss, accuracy = model.evaluate(x_test, y_test)"
   ]
  },
  {
   "cell_type": "markdown",
   "metadata": {},
   "source": [
    "Ahora la línea azul sigue más a la roja, lo cual es buena señal."
   ]
  },
  {
   "cell_type": "code",
   "execution_count": null,
   "metadata": {},
   "outputs": [],
   "source": []
  }
 ],
 "metadata": {
  "kernelspec": {
   "display_name": "Python 3",
   "language": "python",
   "name": "python3"
  },
  "language_info": {
   "codemirror_mode": {
    "name": "ipython",
    "version": 3
   },
   "file_extension": ".py",
   "mimetype": "text/x-python",
   "name": "python",
   "nbconvert_exporter": "python",
   "pygments_lexer": "ipython3",
   "version": "3.8.10"
  }
 },
 "nbformat": 4,
 "nbformat_minor": 4
}
