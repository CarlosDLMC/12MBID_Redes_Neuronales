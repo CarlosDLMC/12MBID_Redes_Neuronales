{
 "cells": [
  {
   "cell_type": "code",
   "execution_count": 2,
   "metadata": {},
   "outputs": [
    {
     "data": {
      "text/plain": [
       "'2.2.0'"
      ]
     },
     "execution_count": 2,
     "metadata": {},
     "output_type": "execute_result"
    }
   ],
   "source": [
    "import numpy as np\n",
    "import tensorflow as tf\n",
    "tf.__version__"
   ]
  },
  {
   "cell_type": "markdown",
   "metadata": {},
   "source": [
    "Keras tiene bastantes datasets de ejemplo implementados. En este caso vamos a importar uno que son números escritos a mano 28x28 bits, son 10 dígitos. Son 60 0000 imágenes, así que la array que recibiremos son (60000, 28, 28) para train. De test, (10000, 28, 28)"
   ]
  },
  {
   "cell_type": "code",
   "execution_count": 3,
   "metadata": {},
   "outputs": [
    {
     "name": "stdout",
     "output_type": "stream",
     "text": [
      "(60000, 28, 28)\n",
      "(60000,)\n",
      "(10000, 28, 28)\n",
      "(10000,)\n"
     ]
    }
   ],
   "source": [
    "mnist = tf.keras.datasets.mnist\n",
    "(x_train, y_train), (x_test, y_test) = mnist.load_data()\n",
    "print(x_train.shape)\n",
    "print(y_train.shape)\n",
    "print(x_test.shape)\n",
    "print(y_test.shape)"
   ]
  },
  {
   "cell_type": "markdown",
   "metadata": {},
   "source": [
    "Ahora vamos a visualizar los datos para inspeccionarlos un poco"
   ]
  },
  {
   "cell_type": "code",
   "execution_count": 4,
   "metadata": {},
   "outputs": [],
   "source": [
    "import matplotlib.pyplot as plt\n",
    "\n",
    "def display_digit(num):\n",
    "    image = x_train[num,:,:]\n",
    "    label = y_train[num]\n",
    "    \n",
    "    plt.title(f\"Example: {num}; Label: {label}\")\n",
    "    plt.imshow(image, cmap=plt.get_cmap('gray_r'))\n",
    "    plt.show()"
   ]
  },
  {
   "cell_type": "code",
   "execution_count": 5,
   "metadata": {},
   "outputs": [
    {
     "data": {
      "image/png": "[encoded data removed]",
      "text/plain": [
       "<Figure size 432x288 with 1 Axes>"
      ]
     },
     "metadata": {
      "needs_background": "light"
     },
     "output_type": "display_data"
    }
   ],
   "source": [
    "display_digit(np.random.randint(0, x_train.shape[0]))"
   ]
  },
  {
   "cell_type": "code",
   "execution_count": 6,
   "metadata": {},
   "outputs": [
    {
     "data": {
      "image/png": "[encoded data removed]",
      "text/plain": [
       "<Figure size 432x288 with 1 Axes>"
      ]
     },
     "metadata": {
      "needs_background": "light"
     },
     "output_type": "display_data"
    }
   ],
   "source": [
    "display_digit(np.random.randint(0, x_train.shape[0]))"
   ]
  },
  {
   "cell_type": "code",
   "execution_count": 7,
   "metadata": {},
   "outputs": [
    {
     "data": {
      "image/png": "[encoded data removed]",
      "text/plain": [
       "<Figure size 432x288 with 1 Axes>"
      ]
     },
     "metadata": {
      "needs_background": "light"
     },
     "output_type": "display_data"
    }
   ],
   "source": [
    "display_digit(np.random.randint(0, x_train.shape[0]))"
   ]
  },
  {
   "cell_type": "markdown",
   "metadata": {},
   "source": [
    "## Acondicionamiento de datos"
   ]
  },
  {
   "cell_type": "markdown",
   "metadata": {},
   "source": [
    "En esta parte vamos a acondicionar los datos para usarlos en nuestra red neuronal"
   ]
  },
  {
   "cell_type": "code",
   "execution_count": 8,
   "metadata": {},
   "outputs": [
    {
     "name": "stdout",
     "output_type": "stream",
     "text": [
      "(54000, 10)\n"
     ]
    }
   ],
   "source": [
    "from tensorflow.keras.utils import to_categorical\n",
    "from sklearn.model_selection import train_test_split\n",
    "\n",
    "x_train, x_te = x_train / 255.0, x_test / 255.0 # Números pequeños para que los gradientes no se vayan al infinito\n",
    "y_train = to_categorical(y_train, num_classes=10) # One hot encoder\n",
    "\n",
    "y_te = to_categorical(y_test)\n",
    "x_tr, x_val, y_tr, y_val = train_test_split(x_train, y_train, test_size=0.1, random_state=42)\n",
    "print(y_tr.shape)"
   ]
  },
  {
   "cell_type": "markdown",
   "metadata": {},
   "source": [
    "## Creamos un perceptrón multicapa"
   ]
  },
  {
   "cell_type": "code",
   "execution_count": 11,
   "metadata": {},
   "outputs": [],
   "source": [
    "# Nuestra red va a ser secuencial\n",
    "from tensorflow.keras.models import Sequential\n",
    "from tensorflow.keras.layers import Dense, Flatten\n",
    "\n",
    "model = Sequential()\n",
    "model.add(Flatten(input_shape=(28, 28))) # pasa el input a 1 dimensión \n",
    "model.add(Dense(512, input_shape=(28 * 28,), activation=\"relu\"))\n",
    "model.add(Dense(10, activation=\"softmax\")) # Capa salida: mismo número de neuronas que de clases"
   ]
  },
  {
   "cell_type": "code",
   "execution_count": 12,
   "metadata": {},
   "outputs": [],
   "source": [
    "from tensorflow.keras.optimizers import SGD\n",
    "\n",
    "model.compile(loss=\"categorical_crossentropy\", optimizer=SGD(0.005), metrics=['accuracy'])"
   ]
  },
  {
   "cell_type": "code",
   "execution_count": 13,
   "metadata": {},
   "outputs": [
    {
     "name": "stdout",
     "output_type": "stream",
     "text": [
      "Model: \"sequential_1\"\n",
      "_________________________________________________________________\n",
      "Layer (type)                 Output Shape              Param #   \n",
      "=================================================================\n",
      "flatten (Flatten)            (None, 784)               0         \n",
      "_________________________________________________________________\n",
      "dense (Dense)                (None, 512)               401920    \n",
      "_________________________________________________________________\n",
      "dense_1 (Dense)              (None, 10)                5130      \n",
      "=================================================================\n",
      "Total params: 407,050\n",
      "Trainable params: 407,050\n",
      "Non-trainable params: 0\n",
      "_________________________________________________________________\n"
     ]
    }
   ],
   "source": [
    "model.summary()"
   ]
  },
  {
   "cell_type": "markdown",
   "metadata": {},
   "source": [
    "## Ahora la entrenamos "
   ]
  },
  {
   "cell_type": "code",
   "execution_count": 14,
   "metadata": {},
   "outputs": [
    {
     "name": "stdout",
     "output_type": "stream",
     "text": [
      "Epoch 1/50\n",
      "422/422 [==============================] - 1s 3ms/step - loss: 1.4807 - accuracy: 0.6520 - val_loss: 0.9651 - val_accuracy: 0.8165\n",
      "Epoch 2/50\n",
      "422/422 [==============================] - 1s 2ms/step - loss: 0.7711 - accuracy: 0.8378 - val_loss: 0.6473 - val_accuracy: 0.8573\n",
      "Epoch 3/50\n",
      "422/422 [==============================] - 1s 2ms/step - loss: 0.5783 - accuracy: 0.8658 - val_loss: 0.5283 - val_accuracy: 0.8752\n",
      "Epoch 4/50\n",
      "422/422 [==============================] - 1s 2ms/step - loss: 0.4935 - accuracy: 0.8791 - val_loss: 0.4658 - val_accuracy: 0.8850\n",
      "Epoch 5/50\n",
      "422/422 [==============================] - 1s 3ms/step - loss: 0.4450 - accuracy: 0.8874 - val_loss: 0.4259 - val_accuracy: 0.8897\n",
      "Epoch 6/50\n",
      "422/422 [==============================] - 1s 3ms/step - loss: 0.4129 - accuracy: 0.8927 - val_loss: 0.3985 - val_accuracy: 0.8943\n",
      "Epoch 7/50\n",
      "422/422 [==============================] - 1s 3ms/step - loss: 0.3895 - accuracy: 0.8970 - val_loss: 0.3783 - val_accuracy: 0.8985\n",
      "Epoch 8/50\n",
      "422/422 [==============================] - 1s 3ms/step - loss: 0.3716 - accuracy: 0.9008 - val_loss: 0.3616 - val_accuracy: 0.9025\n",
      "Epoch 9/50\n",
      "422/422 [==============================] - 1s 3ms/step - loss: 0.3572 - accuracy: 0.9040 - val_loss: 0.3487 - val_accuracy: 0.9057\n",
      "Epoch 10/50\n",
      "422/422 [==============================] - 1s 3ms/step - loss: 0.3453 - accuracy: 0.9064 - val_loss: 0.3376 - val_accuracy: 0.9087\n",
      "Epoch 11/50\n",
      "422/422 [==============================] - 1s 3ms/step - loss: 0.3350 - accuracy: 0.9086 - val_loss: 0.3286 - val_accuracy: 0.9115\n",
      "Epoch 12/50\n",
      "422/422 [==============================] - 1s 3ms/step - loss: 0.3261 - accuracy: 0.9102 - val_loss: 0.3197 - val_accuracy: 0.9128\n",
      "Epoch 13/50\n",
      "422/422 [==============================] - 1s 3ms/step - loss: 0.3183 - accuracy: 0.9126 - val_loss: 0.3123 - val_accuracy: 0.9155\n",
      "Epoch 14/50\n",
      "422/422 [==============================] - 1s 3ms/step - loss: 0.3110 - accuracy: 0.9145 - val_loss: 0.3056 - val_accuracy: 0.9165\n",
      "Epoch 15/50\n",
      "422/422 [==============================] - 1s 3ms/step - loss: 0.3046 - accuracy: 0.9159 - val_loss: 0.2994 - val_accuracy: 0.9182\n",
      "Epoch 16/50\n",
      "422/422 [==============================] - 1s 3ms/step - loss: 0.2986 - accuracy: 0.9175 - val_loss: 0.2936 - val_accuracy: 0.9200\n",
      "Epoch 17/50\n",
      "422/422 [==============================] - 1s 3ms/step - loss: 0.2930 - accuracy: 0.9190 - val_loss: 0.2886 - val_accuracy: 0.9198\n",
      "Epoch 18/50\n",
      "422/422 [==============================] - 1s 3ms/step - loss: 0.2879 - accuracy: 0.9206 - val_loss: 0.2840 - val_accuracy: 0.9212\n",
      "Epoch 19/50\n",
      "422/422 [==============================] - 1s 3ms/step - loss: 0.2831 - accuracy: 0.9222 - val_loss: 0.2794 - val_accuracy: 0.9222\n",
      "Epoch 20/50\n",
      "422/422 [==============================] - 1s 3ms/step - loss: 0.2785 - accuracy: 0.9234 - val_loss: 0.2751 - val_accuracy: 0.9235\n",
      "Epoch 21/50\n",
      "422/422 [==============================] - 1s 3ms/step - loss: 0.2741 - accuracy: 0.9246 - val_loss: 0.2709 - val_accuracy: 0.9247\n",
      "Epoch 22/50\n",
      "422/422 [==============================] - 1s 3ms/step - loss: 0.2700 - accuracy: 0.9260 - val_loss: 0.2682 - val_accuracy: 0.9277\n",
      "Epoch 23/50\n",
      "422/422 [==============================] - 1s 3ms/step - loss: 0.2661 - accuracy: 0.9271 - val_loss: 0.2636 - val_accuracy: 0.9280\n",
      "Epoch 24/50\n",
      "422/422 [==============================] - 1s 3ms/step - loss: 0.2623 - accuracy: 0.9280 - val_loss: 0.2601 - val_accuracy: 0.9282\n",
      "Epoch 25/50\n",
      "422/422 [==============================] - 1s 3ms/step - loss: 0.2587 - accuracy: 0.9292 - val_loss: 0.2566 - val_accuracy: 0.9293\n",
      "Epoch 26/50\n",
      "422/422 [==============================] - 1s 3ms/step - loss: 0.2552 - accuracy: 0.9301 - val_loss: 0.2537 - val_accuracy: 0.9302\n",
      "Epoch 27/50\n",
      "422/422 [==============================] - 1s 3ms/step - loss: 0.2519 - accuracy: 0.9309 - val_loss: 0.2503 - val_accuracy: 0.9307\n",
      "Epoch 28/50\n",
      "422/422 [==============================] - 1s 3ms/step - loss: 0.2485 - accuracy: 0.9323 - val_loss: 0.2482 - val_accuracy: 0.9318\n",
      "Epoch 29/50\n",
      "422/422 [==============================] - 1s 3ms/step - loss: 0.2454 - accuracy: 0.9330 - val_loss: 0.2446 - val_accuracy: 0.9333\n",
      "Epoch 30/50\n",
      "422/422 [==============================] - 1s 3ms/step - loss: 0.2424 - accuracy: 0.9338 - val_loss: 0.2421 - val_accuracy: 0.9347\n",
      "Epoch 31/50\n",
      "422/422 [==============================] - 1s 3ms/step - loss: 0.2394 - accuracy: 0.9347 - val_loss: 0.2393 - val_accuracy: 0.9343\n",
      "Epoch 32/50\n",
      "422/422 [==============================] - 1s 3ms/step - loss: 0.2367 - accuracy: 0.9351 - val_loss: 0.2374 - val_accuracy: 0.9365\n",
      "Epoch 33/50\n",
      "422/422 [==============================] - 1s 3ms/step - loss: 0.2337 - accuracy: 0.9358 - val_loss: 0.2342 - val_accuracy: 0.9355\n",
      "Epoch 34/50\n",
      "422/422 [==============================] - 1s 3ms/step - loss: 0.2311 - accuracy: 0.9365 - val_loss: 0.2320 - val_accuracy: 0.9368\n",
      "Epoch 35/50\n",
      "422/422 [==============================] - 1s 3ms/step - loss: 0.2285 - accuracy: 0.9375 - val_loss: 0.2293 - val_accuracy: 0.9370\n",
      "Epoch 36/50\n",
      "422/422 [==============================] - 1s 3ms/step - loss: 0.2259 - accuracy: 0.9382 - val_loss: 0.2273 - val_accuracy: 0.9375\n",
      "Epoch 37/50\n",
      "422/422 [==============================] - 1s 3ms/step - loss: 0.2234 - accuracy: 0.9387 - val_loss: 0.2245 - val_accuracy: 0.9387\n",
      "Epoch 38/50\n",
      "422/422 [==============================] - 1s 3ms/step - loss: 0.2209 - accuracy: 0.9391 - val_loss: 0.2231 - val_accuracy: 0.9397\n",
      "Epoch 39/50\n",
      "422/422 [==============================] - 1s 3ms/step - loss: 0.2186 - accuracy: 0.9399 - val_loss: 0.2208 - val_accuracy: 0.9390\n",
      "Epoch 40/50\n",
      "422/422 [==============================] - 1s 3ms/step - loss: 0.2162 - accuracy: 0.9405 - val_loss: 0.2185 - val_accuracy: 0.9405\n",
      "Epoch 41/50\n",
      "422/422 [==============================] - 1s 3ms/step - loss: 0.2140 - accuracy: 0.9413 - val_loss: 0.2169 - val_accuracy: 0.9410\n",
      "Epoch 42/50\n",
      "422/422 [==============================] - 1s 3ms/step - loss: 0.2118 - accuracy: 0.9420 - val_loss: 0.2146 - val_accuracy: 0.9413\n",
      "Epoch 43/50\n",
      "422/422 [==============================] - 1s 3ms/step - loss: 0.2096 - accuracy: 0.9425 - val_loss: 0.2126 - val_accuracy: 0.9425\n",
      "Epoch 44/50\n",
      "422/422 [==============================] - 1s 3ms/step - loss: 0.2074 - accuracy: 0.9429 - val_loss: 0.2109 - val_accuracy: 0.9423\n",
      "Epoch 45/50\n",
      "422/422 [==============================] - 1s 3ms/step - loss: 0.2053 - accuracy: 0.9439 - val_loss: 0.2091 - val_accuracy: 0.9432\n",
      "Epoch 46/50\n",
      "422/422 [==============================] - 1s 3ms/step - loss: 0.2034 - accuracy: 0.9442 - val_loss: 0.2069 - val_accuracy: 0.9430\n",
      "Epoch 47/50\n",
      "422/422 [==============================] - 1s 3ms/step - loss: 0.2014 - accuracy: 0.9446 - val_loss: 0.2052 - val_accuracy: 0.9428\n",
      "Epoch 48/50\n",
      "422/422 [==============================] - 1s 3ms/step - loss: 0.1994 - accuracy: 0.9453 - val_loss: 0.2034 - val_accuracy: 0.9437\n",
      "Epoch 49/50\n",
      "422/422 [==============================] - 1s 3ms/step - loss: 0.1975 - accuracy: 0.9459 - val_loss: 0.2018 - val_accuracy: 0.9442\n",
      "Epoch 50/50\n",
      "422/422 [==============================] - 1s 3ms/step - loss: 0.1956 - accuracy: 0.9462 - val_loss: 0.2004 - val_accuracy: 0.9445\n"
     ]
    }
   ],
   "source": [
    "H = model.fit(x_tr, y_tr, validation_data=(x_val, y_val), epochs=50, batch_size=128)"
   ]
  },
  {
   "cell_type": "code",
   "execution_count": 15,
   "metadata": {},
   "outputs": [
    {
     "data": {
      "text/plain": [
       "<matplotlib.legend.Legend at 0x7f2bd81e68e0>"
      ]
     },
     "execution_count": 15,
     "metadata": {},
     "output_type": "execute_result"
    },
    {
     "data": {
      "image/png": "[encoded data removed]",
      "text/plain": [
       "<Figure size 432x288 with 1 Axes>"
      ]
     },
     "metadata": {},
     "output_type": "display_data"
    }
   ],
   "source": [
    "plt.style.use(\"ggplot\")\n",
    "plt.figure()\n",
    "plt.plot(np.arange(0, 50), H.history[\"loss\"], label=\"train_loss\")\n",
    "plt.plot(np.arange(0, 50), H.history[\"val_loss\"], label=\"val_loss\")\n",
    "plt.plot(np.arange(0, 50), H.history[\"accuracy\"], label=\"accuracy\")\n",
    "plt.plot(np.arange(0, 50), H.history[\"val_accuracy\"], label=\"val_accuracy\")\n",
    "plt.title(\"Training Loss and Accuracy\")\n",
    "plt.xlabel(\"Epoch #\")\n",
    "plt.ylabel(\"Loss/Accuracy\")\n",
    "plt.legend()"
   ]
  },
  {
   "cell_type": "markdown",
   "metadata": {},
   "source": [
    "## Predicciones"
   ]
  },
  {
   "cell_type": "code",
   "execution_count": 16,
   "metadata": {},
   "outputs": [
    {
     "name": "stdout",
     "output_type": "stream",
     "text": [
      "              precision    recall  f1-score   support\n",
      "\n",
      "           0       0.96      0.98      0.97       980\n",
      "           1       0.98      0.98      0.98      1135\n",
      "           2       0.94      0.94      0.94      1032\n",
      "           3       0.93      0.94      0.94      1010\n",
      "           4       0.94      0.95      0.94       982\n",
      "           5       0.94      0.92      0.93       892\n",
      "           6       0.94      0.96      0.95       958\n",
      "           7       0.95      0.94      0.95      1028\n",
      "           8       0.94      0.92      0.93       974\n",
      "           9       0.93      0.93      0.93      1009\n",
      "\n",
      "    accuracy                           0.95     10000\n",
      "   macro avg       0.95      0.95      0.95     10000\n",
      "weighted avg       0.95      0.95      0.95     10000\n",
      "\n"
     ]
    }
   ],
   "source": [
    "from sklearn.metrics import classification_report\n",
    "\n",
    "predictions = model.predict(x_te, batch_size=128)\n",
    "\n",
    "print(classification_report(y_te.argmax(axis=1), predictions.argmax(axis=1)))"
   ]
  },
  {
   "cell_type": "code",
   "execution_count": 17,
   "metadata": {},
   "outputs": [
    {
     "data": {
      "text/plain": [
       "array([6.1795603e-05, 2.6502957e-07, 3.8080118e-04, 3.3314682e-03,\n",
       "       1.3308701e-06, 4.9379651e-05, 4.2076138e-08, 9.9592531e-01,\n",
       "       1.9804591e-05, 2.2972203e-04], dtype=float32)"
      ]
     },
     "execution_count": 17,
     "metadata": {},
     "output_type": "execute_result"
    }
   ],
   "source": [
    "predictions[0]"
   ]
  },
  {
   "cell_type": "code",
   "execution_count": 18,
   "metadata": {},
   "outputs": [
    {
     "data": {
      "text/plain": [
       "7"
      ]
     },
     "execution_count": 18,
     "metadata": {},
     "output_type": "execute_result"
    }
   ],
   "source": [
    "predictions[0].argmax(axis=0)"
   ]
  },
  {
   "cell_type": "code",
   "execution_count": 19,
   "metadata": {},
   "outputs": [
    {
     "name": "stdout",
     "output_type": "stream",
     "text": [
      "Model: \"sequential_1\"\n",
      "_________________________________________________________________\n",
      "Layer (type)                 Output Shape              Param #   \n",
      "=================================================================\n",
      "flatten (Flatten)            (None, 784)               0         \n",
      "_________________________________________________________________\n",
      "dense (Dense)                (None, 512)               401920    \n",
      "_________________________________________________________________\n",
      "dense_1 (Dense)              (None, 10)                5130      \n",
      "=================================================================\n",
      "Total params: 407,050\n",
      "Trainable params: 407,050\n",
      "Non-trainable params: 0\n",
      "_________________________________________________________________\n"
     ]
    }
   ],
   "source": [
    "model.summary()"
   ]
  },
  {
   "cell_type": "markdown",
   "metadata": {},
   "source": []
  }
 ],
 "metadata": {
  "kernelspec": {
   "display_name": "Python 3",
   "language": "python",
   "name": "python3"
  },
  "language_info": {
   "codemirror_mode": {
    "name": "ipython",
    "version": 3
   },
   "file_extension": ".py",
   "mimetype": "text/x-python",
   "name": "python",
   "nbconvert_exporter": "python",
   "pygments_lexer": "ipython3",
   "version": "3.8.10"
  }
 },
 "nbformat": 4,
 "nbformat_minor": 4
}
